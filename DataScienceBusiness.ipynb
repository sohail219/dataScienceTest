{
 "cells": [
  {
   "cell_type": "markdown",
   "id": "65026f23-b4ca-41dd-a81c-aea8eb53d4a5",
   "metadata": {},
   "source": [
    "<h1> Data Science used in Bussiness</h1>"
   ]
  },
  {
   "cell_type": "markdown",
   "id": "0d240b8a-cd0c-4616-b53f-5398776692da",
   "metadata": {},
   "source": [
    "<h3>Introduction: </h3>\n",
    "<p>Data science allows businesses to measure performance through data collection to make more educated decisions across the organization by using trends and empirical evidence to help them come up with solutions.</P>"
   ]
  },
  {
   "cell_type": "markdown",
   "id": "5ee256d6-9b3c-46f2-8df0-f4b914985154",
   "metadata": {},
   "source": [
    "<b> Some of the popular languages that Data Scientists use are: </b>\n",
    "<ol>\n",
    "    <li> Python</li>\n",
    "    <li> R</li>\n",
    "    <li> Java </li>\n",
    "    <li> SQL </li>\n",
    "    <li> Scala </li>\n",
    "</ol>"
   ]
  },
  {
   "cell_type": "markdown",
   "id": "07ddb024-870f-4c18-97b2-9500498bdbf4",
   "metadata": {},
   "source": [
    "Some of the commonly used libraries used by Data Scientists include:\n",
    "<ol>\n",
    "    <li> Transflow </li>\n",
    "    <li> Numpy </li>\n",
    "    <li> Pandas </li>\n",
    "    <li> Keras </li>\n",
    "    <li> PyTorch </li>\n",
    "    <li> Matplotlib </li>\n",
    "</ol>"
   ]
  },
  {
   "cell_type": "markdown",
   "id": "8c11ff3f-49ce-4d45-9a63-c3141766ca20",
   "metadata": {},
   "source": [
    "<table>\n",
    "  <tr>\n",
    "    <th>Data Science Tools</th>\n",
    "  </tr>\n",
    "  <tr>\n",
    "    <td>Jupyter Notebook</td>\n",
    "  </tr>\n",
    "  <tr>\n",
    "    <td>R Studio</td>\n",
    "  </tr>\n",
    "  <tr>\n",
    "    <td>Zeppelin Notebooks</td>\n",
    "  </tr>  \n",
    "  <tr>\n",
    "    <td>Spyder</td>\n",
    "  </tr>\n",
    "</table>"
   ]
  },
  {
   "cell_type": "markdown",
   "id": "f6aad798-fc44-43ad-934b-92d3425a6ff2",
   "metadata": {},
   "source": [
    "<h3> Below are a few examples of evaluating arithmetic expressions in Python<h3>"
   ]
  },
  {
   "cell_type": "code",
   "execution_count": 3,
   "id": "112c28bb-5412-4dc5-8674-928ce9da44c0",
   "metadata": {},
   "outputs": [
    {
     "data": {
      "text/plain": [
       "17"
      ]
     },
     "execution_count": 3,
     "metadata": {},
     "output_type": "execute_result"
    }
   ],
   "source": [
    "#This a simple arithmetic expression to multiply then add integers\n",
    "(3*4)+5"
   ]
  },
  {
   "cell_type": "code",
   "execution_count": 4,
   "id": "bc0d2d06-c4f1-427b-982d-4b227e39ac63",
   "metadata": {},
   "outputs": [
    {
     "name": "stdout",
     "output_type": "stream",
     "text": [
      "3.3333333333333335\n"
     ]
    }
   ],
   "source": [
    "#This will convert 200 minutes to hours by diving by 60\n",
    "mints = 200\n",
    "hours = 200/60\n",
    "print(hours)"
   ]
  },
  {
   "cell_type": "markdown",
   "id": "41e4ecf8-d7c6-4572-aa68-304faf67b068",
   "metadata": {},
   "source": [
    "<h2>Objectives:</h2>\n",
    "<ul>\n",
    "    <li> New business ideas and improved infiltration </li>\n",
    "    <li> Betterment of products and services</li>\n",
    "    <li> Malware prevention and improvements:</li>\n",
    "    <li> Attractive campaigning</li>\n",
    "    <li> Empowering to make improved resolutions</li>\n",
    "    <li> Identifying and focusing on the target audience</li>\n",
    "</ul>"
   ]
  },
  {
   "cell_type": "markdown",
   "id": "a1fb9b89-73a1-4075-9af2-b69e70a04d10",
   "metadata": {},
   "source": [
    "<h2>Author</h2>\n",
    "Muhammad Sohail Sajid"
   ]
  },
  {
   "cell_type": "code",
   "execution_count": null,
   "id": "d98c057e-d328-4f8a-86ea-f2679ac244fa",
   "metadata": {},
   "outputs": [],
   "source": []
  }
 ],
 "metadata": {
  "kernelspec": {
   "display_name": "Python",
   "language": "python",
   "name": "conda-env-python-py"
  },
  "language_info": {
   "codemirror_mode": {
    "name": "ipython",
    "version": 3
   },
   "file_extension": ".py",
   "mimetype": "text/x-python",
   "name": "python",
   "nbconvert_exporter": "python",
   "pygments_lexer": "ipython3",
   "version": "3.7.12"
  }
 },
 "nbformat": 4,
 "nbformat_minor": 5
}
